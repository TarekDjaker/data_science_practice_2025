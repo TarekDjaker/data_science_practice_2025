{
 "cells": [
  {
   "cell_type": "code",
   "execution_count": null,
   "id": "32854d75-093f-46c0-8b84-1fe9c6c1bfa5",
   "metadata": {},
   "outputs": [],
   "source": [
    "import pandas as pd\n",
    "import numpy as np "
   ]
  },
  {
   "cell_type": "markdown",
   "id": "623f9a8c-e5e1-46a7-9dd1-1ef0e9cec868",
   "metadata": {},
   "source": [
    "### Data Collection"
   ]
  },
  {
   "cell_type": "code",
   "execution_count": null,
   "id": "cac2bf4b-cce6-4f01-a906-21c6b83ee515",
   "metadata": {},
   "outputs": [],
   "source": [
    "import requests\n",
    "\n",
    "# URLs of the files\n",
    "train_data_url = 'https://www.raphaelcousin.com/modules/data-science-practice/module3/exercise/module3_exercise_train.csv'\n",
    "test_data_url = 'https://www.raphaelcousin.com/modules/data-science-practice/module3/exercise/module3_exercise_test.csv'\n",
    "\n",
    "# Function to download a file\n",
    "def download_file(url, file_name):\n",
    "    response = requests.get(url)\n",
    "    response.raise_for_status()  # Ensure we notice bad responses\n",
    "    with open(file_name, 'wb') as file:\n",
    "        file.write(response.content)\n",
    "    print(f'Downloaded {file_name} from {url}')\n",
    "\n",
    "# Downloading the files\n",
    "download_file(train_data_url, 'module3_exercise_train.csv')\n",
    "download_file(test_data_url, 'module3_exercise_test.csv')"
   ]
  },
  {
   "cell_type": "code",
   "execution_count": null,
   "id": "923f12cb-09c7-4952-b9d3-faf1ff9ada52",
   "metadata": {},
   "outputs": [],
   "source": [
    "df_train =  pd.read_csv(\"module3_exercise_train.csv\", sep=\",\", index_col='id')\n",
    "df_train.head()"
   ]
  },
  {
   "cell_type": "markdown",
   "id": "24460d16-e65e-4277-ae63-3c2ec1343f9e",
   "metadata": {},
   "source": [
    "### Data Preprocessing"
   ]
  },
  {
   "cell_type": "code",
   "execution_count": null,
   "id": "0a6af522-206c-4778-abea-38b612bf5190",
   "metadata": {},
   "outputs": [],
   "source": [
    "\n",
    "print(df_train.columns)\n",
    "df_train.drop(columns=[])\n",
    "df_train.fillna(-1)\n",
    "\n",
    "df_train.head()"
   ]
  },
  {
   "cell_type": "markdown",
   "id": "955e62d0-5a9d-498e-ba9d-7d08cd009499",
   "metadata": {},
   "source": [
    "### Model Building and Evaluation"
   ]
  },
  {
   "cell_type": "code",
   "execution_count": null,
   "id": "2240b9be-2019-40a9-a30b-e9f2bf676e90",
   "metadata": {},
   "outputs": [],
   "source": [
    "from sklearn.linear_model import LinearRegression\n",
    "from sklearn.metrics import mean_absolute_error\n",
    "from sklearn.impute import SimpleImputer\n",
    "from sklearn.pipeline import Pipeline\n",
    "\n",
    "\n",
    "TARGET = \"SalePrice\"\n",
    "\n",
    "# Charger le test d'abord\n",
    "X_test = pd.read_csv(\"module3_exercise_test.csv\", sep=\",\", index_col=\"id\")\n",
    "\n",
    "# Features = intersection train/test (hors cible)\n",
    "feat = [c for c in df_train.columns if c != TARGET and c in X_test.columns]\n",
    "\n",
    "# Données numériques\n",
    "X_tr = df_train[feat].apply(pd.to_numeric, errors=\"coerce\")\n",
    "y_tr = df_train[TARGET].astype(float)\n",
    "X_te = X_test[feat].apply(pd.to_numeric, errors=\"coerce\")\n",
    "\n",
    "# Pipeline et fit\n",
    "pipe = Pipeline([(\"imputer\", SimpleImputer(strategy=\"median\")),\n",
    "                 (\"model\", LinearRegression())])\n",
    "pipe.fit(X_tr, y_tr)\n"
   ]
  },
  {
   "cell_type": "markdown",
   "id": "20cee3d0-2b7f-45e7-bb94-b92c9e78158f",
   "metadata": {},
   "source": [
    "### Generating Submission File"
   ]
  },
  {
   "cell_type": "code",
   "execution_count": null,
   "id": "be18f935-290d-4788-bbea-d67717ed3bd6",
   "metadata": {},
   "outputs": [],
   "source": [
    "y_pred = pipe.predict(X_te)\n",
    "assert len(y_pred) == len(X_test)\n"
   ]
  },
  {
   "cell_type": "code",
   "execution_count": null,
   "id": "0bf5c300-75db-4834-ae40-3c39480e370f",
   "metadata": {},
   "outputs": [],
   "source": [
    "submission = pd.DataFrame({\n",
    "    'id': X_test.index,\n",
    "    'SalePrice': y_pred,\n",
    "})\n",
    "\n",
    "submission.to_csv('submission.csv', index=False, sep=',')\n",
    "submission.head()"
   ]
  }
 ],
 "metadata": {
  "kernelspec": {
   "display_name": ".venv",
   "language": "python",
   "name": "python3"
  },
  "language_info": {
   "codemirror_mode": {
    "name": "ipython",
    "version": 3
   },
   "file_extension": ".py",
   "mimetype": "text/x-python",
   "name": "python",
   "nbconvert_exporter": "python",
   "pygments_lexer": "ipython3",
   "version": "3.10.12"
  }
 },
 "nbformat": 4,
 "nbformat_minor": 5
}
